{
 "cells": [
  {
   "cell_type": "code",
   "execution_count": 1,
   "id": "dfbe50e8-91fd-4b82-8ff1-f7715772cc29",
   "metadata": {},
   "outputs": [],
   "source": [
    "import pyautogui as pag\n",
    "import keyboard\n",
    "import time"
   ]
  },
  {
   "cell_type": "code",
   "execution_count": 23,
   "id": "537b749b-d9f0-45de-aa8f-36c5e3764f14",
   "metadata": {},
   "outputs": [],
   "source": [
    "# target 찾을부분 먼저 클릭\n",
    "while True:\n",
    "    if keyboard.is_pressed(\"F4\"):\n",
    "        t1 = pag.position()\n",
    "        print(t1)\n",
    "        time.sleep(0.5)\n",
    "        break\n",
    "while True:\n",
    "    if keyboard.is_pressed(\"F4\"):\n",
    "        t2 = pag.position()\n",
    "        print(t2)\n",
    "        time.sleep(0.5)\n",
    "        break"
   ]
  },
  {
   "cell_type": "code",
   "execution_count": 36,
   "id": "f42add2c-5aa7-4117-bbc7-5db53608acd1",
   "metadata": {},
   "outputs": [
    {
     "name": "stdout",
     "output_type": "stream",
     "text": [
      "Point(x=304, y=265)\n",
      "Point(x=776, y=572)\n"
     ]
    }
   ],
   "source": [
    "#검색할 영역 클릭\n",
    "while True:\n",
    "    if keyboard.is_pressed(\"F4\"):\n",
    "        f1 = pag.position()\n",
    "        print(f1)\n",
    "        time.sleep(0.5)\n",
    "        break\n",
    "while True:\n",
    "    if keyboard.is_pressed(\"F4\"):\n",
    "        f2 = pag.position()\n",
    "        print(f2)\n",
    "        time.sleep(0.5)\n",
    "        break"
   ]
  },
  {
   "cell_type": "code",
   "execution_count": 37,
   "id": "937982ad-fcb5-4633-9e2c-a88eb4c461a1",
   "metadata": {},
   "outputs": [
    {
     "data": {
      "image/png": "[encoded data removed]",
      "text/plain": [
       "<PIL.Image.Image image mode=RGB size=37x24 at 0x18335DBF160>"
      ]
     },
     "execution_count": 37,
     "metadata": {},
     "output_type": "execute_result"
    }
   ],
   "source": [
    "# region에 필요한 4가지 값\n",
    "# (시작점x, 시작점y, 공간너비= x좌표의 차, 공간높이= y좌표의 차)\n",
    "region1 = (t1[0], t1[1], t2[0]-t1[0], t2[1]-t1[1] )\n",
    "# 파일로저장하기\n",
    "pag.screenshot(\"C:/Users/User/Desktop/colab-pyautogui/find.png\", region = region1 )"
   ]
  },
  {
   "cell_type": "code",
   "execution_count": 32,
   "id": "16d03c80-fdf6-4ece-beac-63c811d78ff1",
   "metadata": {},
   "outputs": [
    {
     "name": "stdout",
     "output_type": "stream",
     "text": [
      "18\n"
     ]
    }
   ],
   "source": [
    "# \"화면전체영역\"에서 같은이미지를 찾아(정확도조절)1. \n",
    "p_list = pag.locateAllOnScreen(\"C:/Users/User/Desktop/colab-pyautogui/find.png\", confidence = 0.96)\n",
    "p_list = list(p_list)\n",
    "print(len(p_list))\n",
    "for p in p_list:\n",
    "    pag.moveTo(pag.center(p)) #이미지 센터로 마우스콕콕. 이미지움직여도찾는데, 단점은 한 모니터에서만 가능....\n",
    "    time.sleep(1)"
   ]
  },
  {
   "cell_type": "code",
   "execution_count": null,
   "id": "4e7ccb85-66f3-45f8-8d42-7ec838cc0a4c",
   "metadata": {},
   "outputs": [],
   "source": [
    "# \"화면전체영역\"에서 같은이미지를 찾아(정확도조절)2. 동일한 이미지가 없다면  \n",
    "p_list = pag.locateAllOnScreen(\"C:/Users/User/Desktop/colab-pyautogui/find.png\", confidence = 0.96)\n",
    "p_list = list(p_list)\n",
    "print(len(p_list))\n",
    "if len(p_list) == 0:\n",
    "    print(\"이미지 없음\")\n",
    "else :\n",
    "    for p in p_list:\n",
    "        pag.moveTo(pag.center(p)) #이미지 센터로 마우스콕콕. 이미지움직여도찾는데, 단점은 한 모니터에서만 가능....\n",
    "        time.sleep(1)"
   ]
  },
  {
   "cell_type": "code",
   "execution_count": 38,
   "id": "9811bb30-4a8b-4d29-978b-ecfd1e95566e",
   "metadata": {},
   "outputs": [
    {
     "name": "stdout",
     "output_type": "stream",
     "text": [
      "17\n",
      "전체에는 있으나 서치 영역에는 이미지 없음\n"
     ]
    }
   ],
   "source": [
    "# \"제한영역\"에서 같은이미지를 찾아\n",
    "p_list = pag.locateAllOnScreen(\"C:/Users/User/Desktop/colab-pyautogui/find.png\", confidence = 0.96)\n",
    "p_list = list(p_list)\n",
    "print(len(p_list))\n",
    "k = 0\n",
    "if len(p_list) == 0:\n",
    "    print(\"이미지 없음\")\n",
    "else :\n",
    "    for p in p_list:\n",
    "        ctr = pag.center(p)\n",
    "        if ctr[0] >= f1[0] and ctr[0] <= f2[0] and ctr[1] >= f1[1] and ctr[1] <= f2[1]:\n",
    "            pag.moveTo(pag.center(p)) #이미지 센터로 마우스콕콕. 이미지움직여도찾는데, 단점은 한 모니터에서만 가능....\n",
    "            time.sleep(1)\n",
    "            k = 1\n",
    "    if k == 0: #영역 내에서 타겟이미지를 발견 못했을 때,\n",
    "        print(\"전체에는 있으나 서치 영역에는 이미지 없음\")"
   ]
  },
  {
   "cell_type": "code",
   "execution_count": null,
   "id": "8f5d612d-dfd7-422a-9e64-e4732d12d221",
   "metadata": {},
   "outputs": [],
   "source": []
  }
 ],
 "metadata": {
  "kernelspec": {
   "display_name": "Python 3",
   "language": "python",
   "name": "python3"
  },
  "language_info": {
   "codemirror_mode": {
    "name": "ipython",
    "version": 3
   },
   "file_extension": ".py",
   "mimetype": "text/x-python",
   "name": "python",
   "nbconvert_exporter": "python",
   "pygments_lexer": "ipython3",
   "version": "3.8.8"
  }
 },
 "nbformat": 4,
 "nbformat_minor": 5
}

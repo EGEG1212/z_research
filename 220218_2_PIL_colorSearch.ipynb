{
 "cells": [
  {
   "cell_type": "code",
   "execution_count": null,
   "id": "a3eb9b60-54a7-446b-bfa1-043b44d36a6e",
   "metadata": {},
   "outputs": [],
   "source": [
    "pip install pillow"
   ]
  },
  {
   "cell_type": "code",
   "execution_count": 6,
   "id": "8d8bced2-6393-43d2-86b4-312920bdf6e1",
   "metadata": {},
   "outputs": [],
   "source": [
    "from PIL import ImageGrab\n",
    "import pyautogui as pag"
   ]
  },
  {
   "cell_type": "code",
   "execution_count": 5,
   "id": "7d84309b-21e0-4a96-88c3-2679cb37b459",
   "metadata": {},
   "outputs": [],
   "source": [
    "screen = ImageGrab.grab()"
   ]
  },
  {
   "cell_type": "code",
   "execution_count": 13,
   "id": "22719ffa-e1f7-4c48-aa4c-8e083109dc90",
   "metadata": {},
   "outputs": [
    {
     "name": "stdout",
     "output_type": "stream",
     "text": [
      "Point(x=205, y=300)\n"
     ]
    },
    {
     "data": {
      "text/plain": [
       "(255, 0, 0)"
      ]
     },
     "execution_count": 13,
     "metadata": {},
     "output_type": "execute_result"
    }
   ],
   "source": [
    "#마우스 위치의 RGB값을 뽑아드립니다~🎨\n",
    "pos = pag.position()\n",
    "print(pos)\n",
    "\n",
    "screen.getpixel(pos)"
   ]
  },
  {
   "cell_type": "code",
   "execution_count": 19,
   "id": "803a86f6-1ff5-472e-929d-bedf469e95c4",
   "metadata": {},
   "outputs": [],
   "source": [
    "def color_def():\n",
    "    red = (255, 0, 0)\n",
    "    green = (0, 255, 0)\n",
    "    blue = (0, 0, 255)\n",
    "\n",
    "    screen = ImageGrab.grab()\n",
    "    pos = pag.position()\n",
    "    rgb = screen.getpixel(pos)\n",
    "    if rgb == red : print('red')\n",
    "    elif rgb == green : print('green')\n",
    "    elif rgb == blue : print('blue')\n",
    "    else : pirnt('알수없음')"
   ]
  },
  {
   "cell_type": "code",
   "execution_count": 24,
   "id": "cd22321b-b8f8-4e20-a68d-14b493162199",
   "metadata": {},
   "outputs": [
    {
     "name": "stdout",
     "output_type": "stream",
     "text": [
      "blue\n"
     ]
    }
   ],
   "source": [
    "color_def()"
   ]
  },
  {
   "cell_type": "code",
   "execution_count": null,
   "id": "7a36f97f-4785-4e34-8166-75fe3c4c0276",
   "metadata": {},
   "outputs": [],
   "source": []
  },
  {
   "cell_type": "code",
   "execution_count": null,
   "id": "4dd49b9d-d78c-4129-b996-9e181c83df62",
   "metadata": {},
   "outputs": [],
   "source": []
  }
 ],
 "metadata": {
  "kernelspec": {
   "display_name": "Python 3",
   "language": "python",
   "name": "python3"
  },
  "language_info": {
   "codemirror_mode": {
    "name": "ipython",
    "version": 3
   },
   "file_extension": ".py",
   "mimetype": "text/x-python",
   "name": "python",
   "nbconvert_exporter": "python",
   "pygments_lexer": "ipython3",
   "version": "3.8.8"
  }
 },
 "nbformat": 4,
 "nbformat_minor": 5
}

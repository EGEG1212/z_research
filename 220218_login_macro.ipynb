{
 "cells": [
  {
   "cell_type": "code",
   "execution_count": 20,
   "id": "de475be6-ab2e-406c-9e09-bad138011a7f",
   "metadata": {},
   "outputs": [],
   "source": [
    "import pyautogui as pag\n",
    "import time\n",
    "import keyboard"
   ]
  },
  {
   "cell_type": "code",
   "execution_count": 2,
   "id": "f147ab18-2ec5-47fa-918f-377292227dff",
   "metadata": {},
   "outputs": [
    {
     "name": "stdout",
     "output_type": "stream",
     "text": [
      "Point(x=177, y=45)\n"
     ]
    }
   ],
   "source": [
    "login_btn = pag.position()\n",
    "print(login_btn)"
   ]
  },
  {
   "cell_type": "code",
   "execution_count": 3,
   "id": "c44b861f-46ca-4be0-b117-b0dfa33cac56",
   "metadata": {},
   "outputs": [],
   "source": [
    "pag.doubleClick(login_btn)"
   ]
  },
  {
   "cell_type": "code",
   "execution_count": 4,
   "id": "07bba82e-fdec-4fdc-b4f9-c629666e154f",
   "metadata": {},
   "outputs": [
    {
     "name": "stdout",
     "output_type": "stream",
     "text": [
      "Point(x=761, y=518)\n"
     ]
    }
   ],
   "source": [
    "#기본 커서위치가 있어서 생략가능\n",
    "id_position = pag.position()\n",
    "print(id_position)"
   ]
  },
  {
   "cell_type": "code",
   "execution_count": 5,
   "id": "399525ed-b8d5-453b-8828-f9c29865f936",
   "metadata": {},
   "outputs": [],
   "source": [
    "pag.click(id_position)\n",
    "pag.typewrite(\"sky201\")\n",
    "pag.press(\"tab\")\n",
    "pag.typewrite(\"1225@@1225\")"
   ]
  },
  {
   "cell_type": "code",
   "execution_count": 8,
   "id": "0cd2f11e-af1c-4021-9214-2c7c71b62243",
   "metadata": {},
   "outputs": [],
   "source": [
    "login_final = pag.position()\n",
    "pag.click(login_final)"
   ]
  },
  {
   "cell_type": "code",
   "execution_count": 12,
   "id": "d909c40c-7329-45e3-9897-a0aa12212398",
   "metadata": {},
   "outputs": [],
   "source": [
    "reg_position = pag.position()"
   ]
  },
  {
   "cell_type": "code",
   "execution_count": 17,
   "id": "0ce03744-6dbf-40fa-916d-2466180aa6ed",
   "metadata": {},
   "outputs": [],
   "source": [
    "ser_position = pag.position()"
   ]
  },
  {
   "cell_type": "code",
   "execution_count": 31,
   "id": "c99891c1-bfae-46ee-ad24-16cb2685457d",
   "metadata": {},
   "outputs": [],
   "source": [
    "red_position = pag.position()"
   ]
  },
  {
   "cell_type": "code",
   "execution_count": 33,
   "id": "2191018c-0696-4492-9f2b-71863d3e2ddd",
   "metadata": {},
   "outputs": [],
   "source": [
    "dou_position = pag.position()"
   ]
  },
  {
   "cell_type": "code",
   "execution_count": 19,
   "id": "d17e0186-042b-4bc9-8898-ad2787ee7c59",
   "metadata": {},
   "outputs": [],
   "source": [
    "pag.doubleClick(login_btn) \n",
    "time.sleep(5)\n",
    "pag.click(id_position)\n",
    "my_id = \"sky201\"\n",
    "my_pw = \"1225@@1225\"\n",
    "pag.typewrite(my_id, interval=0.1)\n",
    "time.sleep(1)\n",
    "pag.press(\"tab\")\n",
    "pag.typewrite(my_pw, interval=0.1)\n",
    "time.sleep(1)\n",
    "pag.click(login_final)\n",
    "\n",
    "time.sleep(20)\n",
    "pag.click(reg_position)\n",
    "time.sleep(2)\n",
    "pag.click(ser_position)"
   ]
  },
  {
   "cell_type": "code",
   "execution_count": 29,
   "id": "d6e5b3a2-644d-475b-8371-e018cc26e0a1",
   "metadata": {},
   "outputs": [
    {
     "name": "stdout",
     "output_type": "stream",
     "text": [
      "Point(x=184, y=34)\n",
      "Point(x=796, y=515)\n",
      "Point(x=925, y=519)\n"
     ]
    },
    {
     "ename": "KeyboardInterrupt",
     "evalue": "",
     "output_type": "error",
     "traceback": [
      "\u001b[1;31m---------------------------------------------------------------------------\u001b[0m",
      "\u001b[1;31mKeyboardInterrupt\u001b[0m                         Traceback (most recent call last)",
      "\u001b[1;32m<ipython-input-29-fd69aa19de16>\u001b[0m in \u001b[0;36m<module>\u001b[1;34m\u001b[0m\n\u001b[0;32m      9\u001b[0m             \u001b[1;32mbreak\u001b[0m\u001b[1;33m\u001b[0m\u001b[1;33m\u001b[0m\u001b[0m\n\u001b[0;32m     10\u001b[0m     \u001b[1;32mwhile\u001b[0m \u001b[1;32mTrue\u001b[0m\u001b[1;33m:\u001b[0m\u001b[1;33m\u001b[0m\u001b[1;33m\u001b[0m\u001b[0m\n\u001b[1;32m---> 11\u001b[1;33m         \u001b[1;32mif\u001b[0m \u001b[0mkeyboard\u001b[0m\u001b[1;33m.\u001b[0m\u001b[0mis_pressed\u001b[0m\u001b[1;33m(\u001b[0m\u001b[1;34m'F4'\u001b[0m\u001b[1;33m)\u001b[0m\u001b[1;33m:\u001b[0m\u001b[1;33m\u001b[0m\u001b[1;33m\u001b[0m\u001b[0m\n\u001b[0m\u001b[0;32m     12\u001b[0m             \u001b[0mpos\u001b[0m \u001b[1;33m=\u001b[0m \u001b[0mpag\u001b[0m\u001b[1;33m.\u001b[0m\u001b[0mposition\u001b[0m\u001b[1;33m(\u001b[0m\u001b[1;33m)\u001b[0m\u001b[1;33m\u001b[0m\u001b[1;33m\u001b[0m\u001b[0m\n\u001b[0;32m     13\u001b[0m             \u001b[0mprint\u001b[0m\u001b[1;33m(\u001b[0m\u001b[0mpos\u001b[0m\u001b[1;33m)\u001b[0m\u001b[1;33m\u001b[0m\u001b[1;33m\u001b[0m\u001b[0m\n",
      "\u001b[1;32m~\\anaconda3\\lib\\site-packages\\keyboard\\__init__.py\u001b[0m in \u001b[0;36mis_pressed\u001b[1;34m(hotkey)\u001b[0m\n\u001b[0;32m    415\u001b[0m             \u001b[1;32mreturn\u001b[0m \u001b[0mhotkey\u001b[0m \u001b[1;32min\u001b[0m \u001b[0m_pressed_events\u001b[0m\u001b[1;33m\u001b[0m\u001b[1;33m\u001b[0m\u001b[0m\n\u001b[0;32m    416\u001b[0m \u001b[1;33m\u001b[0m\u001b[0m\n\u001b[1;32m--> 417\u001b[1;33m     \u001b[0msteps\u001b[0m \u001b[1;33m=\u001b[0m \u001b[0mparse_hotkey\u001b[0m\u001b[1;33m(\u001b[0m\u001b[0mhotkey\u001b[0m\u001b[1;33m)\u001b[0m\u001b[1;33m\u001b[0m\u001b[1;33m\u001b[0m\u001b[0m\n\u001b[0m\u001b[0;32m    418\u001b[0m     \u001b[1;32mif\u001b[0m \u001b[0mlen\u001b[0m\u001b[1;33m(\u001b[0m\u001b[0msteps\u001b[0m\u001b[1;33m)\u001b[0m \u001b[1;33m>\u001b[0m \u001b[1;36m1\u001b[0m\u001b[1;33m:\u001b[0m\u001b[1;33m\u001b[0m\u001b[1;33m\u001b[0m\u001b[0m\n\u001b[0;32m    419\u001b[0m         \u001b[1;32mraise\u001b[0m \u001b[0mValueError\u001b[0m\u001b[1;33m(\u001b[0m\u001b[1;34m\"Impossible to check if multi-step hotkeys are pressed (`a+b` is ok, `a, b` isn't).\"\u001b[0m\u001b[1;33m)\u001b[0m\u001b[1;33m\u001b[0m\u001b[1;33m\u001b[0m\u001b[0m\n",
      "\u001b[1;32m~\\anaconda3\\lib\\site-packages\\keyboard\\__init__.py\u001b[0m in \u001b[0;36mparse_hotkey\u001b[1;34m(hotkey)\u001b[0m\n\u001b[0;32m    356\u001b[0m     \u001b[1;32mfor\u001b[0m \u001b[0mstep\u001b[0m \u001b[1;32min\u001b[0m \u001b[0m_re\u001b[0m\u001b[1;33m.\u001b[0m\u001b[0msplit\u001b[0m\u001b[1;33m(\u001b[0m\u001b[1;34mr',\\s?'\u001b[0m\u001b[1;33m,\u001b[0m \u001b[0mhotkey\u001b[0m\u001b[1;33m)\u001b[0m\u001b[1;33m:\u001b[0m\u001b[1;33m\u001b[0m\u001b[1;33m\u001b[0m\u001b[0m\n\u001b[0;32m    357\u001b[0m         \u001b[0mkeys\u001b[0m \u001b[1;33m=\u001b[0m \u001b[0m_re\u001b[0m\u001b[1;33m.\u001b[0m\u001b[0msplit\u001b[0m\u001b[1;33m(\u001b[0m\u001b[1;34mr'\\s?\\+\\s?'\u001b[0m\u001b[1;33m,\u001b[0m \u001b[0mstep\u001b[0m\u001b[1;33m)\u001b[0m\u001b[1;33m\u001b[0m\u001b[1;33m\u001b[0m\u001b[0m\n\u001b[1;32m--> 358\u001b[1;33m         \u001b[0msteps\u001b[0m\u001b[1;33m.\u001b[0m\u001b[0mappend\u001b[0m\u001b[1;33m(\u001b[0m\u001b[0mtuple\u001b[0m\u001b[1;33m(\u001b[0m\u001b[0mkey_to_scan_codes\u001b[0m\u001b[1;33m(\u001b[0m\u001b[0mkey\u001b[0m\u001b[1;33m)\u001b[0m \u001b[1;32mfor\u001b[0m \u001b[0mkey\u001b[0m \u001b[1;32min\u001b[0m \u001b[0mkeys\u001b[0m\u001b[1;33m)\u001b[0m\u001b[1;33m)\u001b[0m\u001b[1;33m\u001b[0m\u001b[1;33m\u001b[0m\u001b[0m\n\u001b[0m\u001b[0;32m    359\u001b[0m     \u001b[1;32mreturn\u001b[0m \u001b[0mtuple\u001b[0m\u001b[1;33m(\u001b[0m\u001b[0msteps\u001b[0m\u001b[1;33m)\u001b[0m\u001b[1;33m\u001b[0m\u001b[1;33m\u001b[0m\u001b[0m\n\u001b[0;32m    360\u001b[0m \u001b[1;33m\u001b[0m\u001b[0m\n",
      "\u001b[1;32m~\\anaconda3\\lib\\site-packages\\keyboard\\__init__.py\u001b[0m in \u001b[0;36m<genexpr>\u001b[1;34m(.0)\u001b[0m\n\u001b[0;32m    356\u001b[0m     \u001b[1;32mfor\u001b[0m \u001b[0mstep\u001b[0m \u001b[1;32min\u001b[0m \u001b[0m_re\u001b[0m\u001b[1;33m.\u001b[0m\u001b[0msplit\u001b[0m\u001b[1;33m(\u001b[0m\u001b[1;34mr',\\s?'\u001b[0m\u001b[1;33m,\u001b[0m \u001b[0mhotkey\u001b[0m\u001b[1;33m)\u001b[0m\u001b[1;33m:\u001b[0m\u001b[1;33m\u001b[0m\u001b[1;33m\u001b[0m\u001b[0m\n\u001b[0;32m    357\u001b[0m         \u001b[0mkeys\u001b[0m \u001b[1;33m=\u001b[0m \u001b[0m_re\u001b[0m\u001b[1;33m.\u001b[0m\u001b[0msplit\u001b[0m\u001b[1;33m(\u001b[0m\u001b[1;34mr'\\s?\\+\\s?'\u001b[0m\u001b[1;33m,\u001b[0m \u001b[0mstep\u001b[0m\u001b[1;33m)\u001b[0m\u001b[1;33m\u001b[0m\u001b[1;33m\u001b[0m\u001b[0m\n\u001b[1;32m--> 358\u001b[1;33m         \u001b[0msteps\u001b[0m\u001b[1;33m.\u001b[0m\u001b[0mappend\u001b[0m\u001b[1;33m(\u001b[0m\u001b[0mtuple\u001b[0m\u001b[1;33m(\u001b[0m\u001b[0mkey_to_scan_codes\u001b[0m\u001b[1;33m(\u001b[0m\u001b[0mkey\u001b[0m\u001b[1;33m)\u001b[0m \u001b[1;32mfor\u001b[0m \u001b[0mkey\u001b[0m \u001b[1;32min\u001b[0m \u001b[0mkeys\u001b[0m\u001b[1;33m)\u001b[0m\u001b[1;33m)\u001b[0m\u001b[1;33m\u001b[0m\u001b[1;33m\u001b[0m\u001b[0m\n\u001b[0m\u001b[0;32m    359\u001b[0m     \u001b[1;32mreturn\u001b[0m \u001b[0mtuple\u001b[0m\u001b[1;33m(\u001b[0m\u001b[0msteps\u001b[0m\u001b[1;33m)\u001b[0m\u001b[1;33m\u001b[0m\u001b[1;33m\u001b[0m\u001b[0m\n\u001b[0;32m    360\u001b[0m \u001b[1;33m\u001b[0m\u001b[0m\n",
      "\u001b[1;32m~\\anaconda3\\lib\\site-packages\\keyboard\\__init__.py\u001b[0m in \u001b[0;36mkey_to_scan_codes\u001b[1;34m(key, error_if_missing)\u001b[0m\n\u001b[0;32m    316\u001b[0m         \u001b[1;31m# Put items in ordered dict to remove duplicates.\u001b[0m\u001b[1;33m\u001b[0m\u001b[1;33m\u001b[0m\u001b[1;33m\u001b[0m\u001b[0m\n\u001b[0;32m    317\u001b[0m         \u001b[0mt\u001b[0m \u001b[1;33m=\u001b[0m \u001b[0mtuple\u001b[0m\u001b[1;33m(\u001b[0m\u001b[0m_collections\u001b[0m\u001b[1;33m.\u001b[0m\u001b[0mOrderedDict\u001b[0m\u001b[1;33m(\u001b[0m\u001b[1;33m(\u001b[0m\u001b[0mscan_code\u001b[0m\u001b[1;33m,\u001b[0m \u001b[1;32mTrue\u001b[0m\u001b[1;33m)\u001b[0m \u001b[1;32mfor\u001b[0m \u001b[0mscan_code\u001b[0m\u001b[1;33m,\u001b[0m \u001b[0mmodifier\u001b[0m \u001b[1;32min\u001b[0m \u001b[0m_os_keyboard\u001b[0m\u001b[1;33m.\u001b[0m\u001b[0mmap_name\u001b[0m\u001b[1;33m(\u001b[0m\u001b[0mnormalized\u001b[0m\u001b[1;33m)\u001b[0m\u001b[1;33m)\u001b[0m\u001b[1;33m)\u001b[0m\u001b[1;33m\u001b[0m\u001b[1;33m\u001b[0m\u001b[0m\n\u001b[1;32m--> 318\u001b[1;33m         \u001b[0me\u001b[0m \u001b[1;33m=\u001b[0m \u001b[1;32mNone\u001b[0m\u001b[1;33m\u001b[0m\u001b[1;33m\u001b[0m\u001b[0m\n\u001b[0m\u001b[0;32m    319\u001b[0m     \u001b[1;32mexcept\u001b[0m \u001b[1;33m(\u001b[0m\u001b[0mKeyError\u001b[0m\u001b[1;33m,\u001b[0m \u001b[0mValueError\u001b[0m\u001b[1;33m)\u001b[0m \u001b[1;32mas\u001b[0m \u001b[0mexception\u001b[0m\u001b[1;33m:\u001b[0m\u001b[1;33m\u001b[0m\u001b[1;33m\u001b[0m\u001b[0m\n\u001b[0;32m    320\u001b[0m         \u001b[0mt\u001b[0m \u001b[1;33m=\u001b[0m \u001b[1;33m(\u001b[0m\u001b[1;33m)\u001b[0m\u001b[1;33m\u001b[0m\u001b[1;33m\u001b[0m\u001b[0m\n",
      "\u001b[1;31mKeyboardInterrupt\u001b[0m: "
     ]
    }
   ],
   "source": [
    "pos_list = []\n",
    "\n",
    "while True:\n",
    "    while True:\n",
    "        if keyboard.is_pressed('F3'):\n",
    "            pos = pag.position()\n",
    "            print(pos)\n",
    "            pos_list.append(pos)\n",
    "            break\n",
    "    while True:\n",
    "        if keyboard.is_pressed('F4'):\n",
    "            pos = pag.position()\n",
    "            print(pos)\n",
    "            pos_list.append(pos)\n",
    "            break"
   ]
  },
  {
   "cell_type": "code",
   "execution_count": 34,
   "id": "25dfb0eb-b3e8-448e-b813-9707b9e46613",
   "metadata": {},
   "outputs": [],
   "source": [
    "my_id = \"sky201\"\n",
    "my_pw = \"1225@@1225\"\n",
    "while True:\n",
    "    if keyboard.is_pressed('F3'): #F3키 감지가 되면 전체코드 실행\n",
    "        break\n",
    "pag.doubleClick(pos_list[0]) #프로그램실행\n",
    "time.sleep(5)\n",
    "pag.click(pos_list[1]) #id 입력\n",
    "pag.typewrite(my_id, interval=0.1)\n",
    "time.sleep(1)\n",
    "pag.press(\"tab\")\n",
    "pag.typewrite(my_pw, interval=0.1) #pw 입력\n",
    "time.sleep(1)\n",
    "pag.click(pos_list[2]) #로그인 확인\n",
    "\n",
    "time.sleep(20)\n",
    "pag.click(reg_position) #접수 클릭\n",
    "time.sleep(5)\n",
    "pag.click(ser_position) #검색 클릭\n",
    "time.sleep(2)\n",
    "pag.click(red_position) #빨간삼각 클릭\n",
    "time.sleep(1)\n",
    "pag.press(\"1\")\n",
    "time.sleep(2)\n",
    "pag.doubleClick(dou_position) "
   ]
  },
  {
   "cell_type": "code",
   "execution_count": 35,
   "id": "67542a92-9839-4032-a850-06cb342e85e4",
   "metadata": {},
   "outputs": [
    {
     "data": {
      "text/plain": [
       "[Point(x=184, y=34), Point(x=796, y=515), Point(x=925, y=519)]"
      ]
     },
     "execution_count": 35,
     "metadata": {},
     "output_type": "execute_result"
    }
   ],
   "source": [
    "pos_list"
   ]
  },
  {
   "cell_type": "code",
   "execution_count": null,
   "id": "57831a50-31d6-483b-8816-f669bd6e2c8f",
   "metadata": {},
   "outputs": [],
   "source": []
  }
 ],
 "metadata": {
  "kernelspec": {
   "display_name": "Python 3",
   "language": "python",
   "name": "python3"
  },
  "language_info": {
   "codemirror_mode": {
    "name": "ipython",
    "version": 3
   },
   "file_extension": ".py",
   "mimetype": "text/x-python",
   "name": "python",
   "nbconvert_exporter": "python",
   "pygments_lexer": "ipython3",
   "version": "3.8.8"
  }
 },
 "nbformat": 4,
 "nbformat_minor": 5
}

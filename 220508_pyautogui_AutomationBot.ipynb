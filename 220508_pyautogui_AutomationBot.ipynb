{
 "cells": [
  {
   "cell_type": "code",
   "execution_count": 14,
   "id": "ae38a25b",
   "metadata": {},
   "outputs": [
    {
     "name": "stdout",
     "output_type": "stream",
     "text": [
      "Collecting pywinauto\n",
      "  Using cached pywinauto-0.6.8-py2.py3-none-any.whl (362 kB)\n",
      "Requirement already satisfied: six in c:\\users\\user\\anaconda3\\lib\\site-packages (from pywinauto) (1.15.0)\n",
      "Requirement already satisfied: pywin32 in c:\\users\\user\\anaconda3\\lib\\site-packages (from pywinauto) (227)\n",
      "Requirement already satisfied: comtypes in c:\\users\\user\\anaconda3\\lib\\site-packages (from pywinauto) (1.1.9)\n",
      "Installing collected packages: pywinauto\n",
      "Successfully installed pywinauto-0.6.8\n",
      "Note: you may need to restart the kernel to use updated packages.\n"
     ]
    }
   ],
   "source": [
    "pip install pywinauto"
   ]
  },
  {
   "cell_type": "code",
   "execution_count": 18,
   "id": "0d670a1f",
   "metadata": {},
   "outputs": [],
   "source": [
    "import pywinauto\n",
    "from pywinauto.application import Application\n",
    "from pywinauto import mouse\n",
    "from pywinauto import keyboard"
   ]
  },
  {
   "cell_type": "code",
   "execution_count": 28,
   "id": "1d889be3",
   "metadata": {
    "scrolled": true
   },
   "outputs": [
    {
     "ename": "SyntaxError",
     "evalue": "(unicode error) 'unicodeescape' codec can't decode bytes in position 10-11: truncated \\uXXXX escape (<ipython-input-28-c7c412b62a32>, line 1)",
     "output_type": "error",
     "traceback": [
      "\u001b[1;36m  File \u001b[1;32m\"<ipython-input-28-c7c412b62a32>\"\u001b[1;36m, line \u001b[1;32m1\u001b[0m\n\u001b[1;33m    app = Application(backend=\"win32\").start(cmd_line=\"C:\\SmartD2\\update.exe\")\u001b[0m\n\u001b[1;37m                                                      ^\u001b[0m\n\u001b[1;31mSyntaxError\u001b[0m\u001b[1;31m:\u001b[0m (unicode error) 'unicodeescape' codec can't decode bytes in position 10-11: truncated \\uXXXX escape\n"
     ]
    }
   ],
   "source": [
    "app = Application(backend=\"win32\").start(cmd_line=\"C:\\SmartD2\\update.exe\")"
   ]
  },
  {
   "cell_type": "code",
   "execution_count": 29,
   "id": "a736e482",
   "metadata": {
    "scrolled": true
   },
   "outputs": [
    {
     "ename": "SyntaxError",
     "evalue": "(unicode error) 'unicodeescape' codec can't decode bytes in position 10-11: truncated \\uXXXX escape (<ipython-input-29-b5e5be80f3bc>, line 1)",
     "output_type": "error",
     "traceback": [
      "\u001b[1;36m  File \u001b[1;32m\"<ipython-input-29-b5e5be80f3bc>\"\u001b[1;36m, line \u001b[1;32m1\u001b[0m\n\u001b[1;33m    app =Application(backend=\"win32\").start(cmd_line=\"C:\\SmartD2\\update.exe\")\u001b[0m\n\u001b[1;37m                                                     ^\u001b[0m\n\u001b[1;31mSyntaxError\u001b[0m\u001b[1;31m:\u001b[0m (unicode error) 'unicodeescape' codec can't decode bytes in position 10-11: truncated \\uXXXX escape\n"
     ]
    }
   ],
   "source": [
    "app =Application(backend=\"win32\").start(cmd_line=\"C:\\SmartD2\\update.exe\")"
   ]
  },
  {
   "cell_type": "code",
   "execution_count": 7,
   "id": "e74e0fbc",
   "metadata": {},
   "outputs": [
    {
     "name": "stdout",
     "output_type": "stream",
     "text": [
      "Point(x=1038, y=573)\n"
     ]
    }
   ],
   "source": []
  },
  {
   "cell_type": "code",
   "execution_count": 12,
   "id": "ade641ed",
   "metadata": {},
   "outputs": [],
   "source": []
  },
  {
   "cell_type": "code",
   "execution_count": null,
   "id": "424e2dcf",
   "metadata": {},
   "outputs": [],
   "source": []
  }
 ],
 "metadata": {
  "kernelspec": {
   "display_name": "Python 3",
   "language": "python",
   "name": "python3"
  },
  "language_info": {
   "codemirror_mode": {
    "name": "ipython",
    "version": 3
   },
   "file_extension": ".py",
   "mimetype": "text/x-python",
   "name": "python",
   "nbconvert_exporter": "python",
   "pygments_lexer": "ipython3",
   "version": "3.8.8"
  }
 },
 "nbformat": 4,
 "nbformat_minor": 5
}
